{
 "cells": [
  {
   "cell_type": "code",
   "execution_count": null,
   "metadata": {},
   "outputs": [],
   "source": [
    "import numpy as np\n",
    "import re\n",
    "import emoji\n",
    "from deep_translator import GoogleTranslator\n",
    "import pandas as pd\n",
    "\n",
    "def my_translator(text_n):\n",
    "\n",
    "    # Initialize the translator\n",
    "    translator = GoogleTranslator(source='id', target='en')\n",
    "\n",
    "    def remove_emojis(text):\n",
    "        return emoji.replace_emoji(text, replace='')\n",
    "\n",
    "    def remove_links(text):\n",
    "        # Regex pattern for detecting URLs\n",
    "        url_pattern = re.compile(r'http\\S+|www\\S+|https\\S+')\n",
    "        return url_pattern.sub(r'', text)\n",
    "\n",
    "    def preprocess_text(text):\n",
    "        text_without_emojis = remove_emojis(text)\n",
    "        text_without_links = remove_links(text_without_emojis)\n",
    "        return text_without_links\n",
    "\n",
    "    # Text to be translated\n",
    "    text = text_n\n",
    "\n",
    "    # Preprocess the text\n",
    "    cleaned_text = preprocess_text(text)\n",
    "\n",
    "    # Translate text\n",
    "    translated = translator.translate(cleaned_text)\n",
    "    if translated is not None:\n",
    "        return translated\n",
    "    else:\n",
    "        return ''\n",
    "\n",
    "# Try reading the Excel file without specifying encoding\n",
    "try:\n",
    "    df = pd.read_excel('dataset.xlsx')\n",
    "    df = df.head(5)\n",
    "    print(\"File read successfully.\")\n",
    "except Exception as e:\n",
    "    print(f\"Failed to read the file: {e}\")\n",
    "\n",
    "df.dropna(subset=['comment'], inplace=True)\n",
    "df['en_comment'] = df['comment'].apply(my_translator)\n",
    "\n",
    "df"
   ]
  }
 ],
 "metadata": {
  "kernelspec": {
   "display_name": "Python 3",
   "language": "python",
   "name": "python3"
  },
  "language_info": {
   "codemirror_mode": {
    "name": "ipython",
    "version": 3
   },
   "file_extension": ".py",
   "mimetype": "text/x-python",
   "name": "python",
   "nbconvert_exporter": "python",
   "pygments_lexer": "ipython3",
   "version": "3.12.4"
  }
 },
 "nbformat": 4,
 "nbformat_minor": 2
}
